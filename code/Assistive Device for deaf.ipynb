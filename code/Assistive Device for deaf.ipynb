{
 "cells": [
  {
   "cell_type": "code",
   "execution_count": 1,
   "metadata": {},
   "outputs": [],
   "source": [
    "import warnings                       \n",
    "warnings.filterwarnings(\"ignore\")\n",
    "import speech_recognition as sr\n",
    "import pyttsx3\n",
    "import requests,sys,bs4 # for google search\n",
    "import random"
   ]
  },
  {
   "cell_type": "code",
   "execution_count": 2,
   "metadata": {},
   "outputs": [],
   "source": [
    "r = sr.Recognizer()      # Initialize the recognizer"
   ]
  },
  {
   "cell_type": "code",
   "execution_count": 3,
   "metadata": {},
   "outputs": [],
   "source": [
    "def SpeakText(command):\n",
    "    # Initialize the engine\n",
    "    engine = pyttsx3.init()\n",
    "    voices = engine.getProperty('voices')\n",
    "    engine.setProperty('voice',voices[0].id) # male voice(DAVID) -> voices[0].id ; female(ZIRA)\n",
    "    engine.say(command)\n",
    "    engine.runAndWait()"
   ]
  },
  {
   "cell_type": "code",
   "execution_count": 4,
   "metadata": {},
   "outputs": [],
   "source": [
    "def deaf():\n",
    "    # Exception handling to handle\n",
    "    # exceptions at the runtime\n",
    "    try:\n",
    "        # use the microphone as source for input.\n",
    "        print(\"Listening...........\")\n",
    "        SpeakText(\"Listening\")\n",
    "        with sr.Microphone() as source2:     \n",
    "            r.adjust_for_ambient_noise(source2, duration=0.006)\n",
    "            \n",
    "            #listens for the user's input\n",
    "            audio2 = r.listen(source2, phrase_time_limit=6)\n",
    "            \n",
    "            # Using google to recognize audio\n",
    "            print(\"Recognizing...........\")\n",
    "            MyText = r.recognize_google(audio2)\n",
    "            MyText = MyText.lower()\n",
    "            return MyText\n",
    "    except sr.RequestError as e: \n",
    "        print(\"Could not request results; {0}\".format(e))\n",
    "    except sr.UnknownValueError:\n",
    "        print(\"\\nCannot Listen You!  😔\\n--Please Speak again-- \\n\")\n",
    "        SpeakText(\"cannot listen you please Speak again \")\n",
    "        return \"\""
   ]
  },
  {
   "cell_type": "code",
   "execution_count": 6,
   "metadata": {},
   "outputs": [
    {
     "name": "stdout",
     "output_type": "stream",
     "text": [
      "Listening...........\n",
      "Recognizing...........\n"
     ]
    },
    {
     "data": {
      "text/plain": [
       "'hello how r u'"
      ]
     },
     "execution_count": 6,
     "metadata": {},
     "output_type": "execute_result"
    }
   ],
   "source": [
    "deaf()"
   ]
  },
  {
   "cell_type": "code",
   "execution_count": null,
   "metadata": {},
   "outputs": [],
   "source": []
  },
  {
   "cell_type": "code",
   "execution_count": null,
   "metadata": {},
   "outputs": [],
   "source": []
  }
 ],
 "metadata": {
  "kernelspec": {
   "display_name": "Python 3",
   "language": "python",
   "name": "python3"
  },
  "language_info": {
   "codemirror_mode": {
    "name": "ipython",
    "version": 3
   },
   "file_extension": ".py",
   "mimetype": "text/x-python",
   "name": "python",
   "nbconvert_exporter": "python",
   "pygments_lexer": "ipython3",
   "version": "3.8.5"
  }
 },
 "nbformat": 4,
 "nbformat_minor": 4
}
